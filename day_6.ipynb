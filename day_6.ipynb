{
 "cells": [
  {
   "cell_type": "code",
   "execution_count": 1,
   "id": "eaf4abf3",
   "metadata": {},
   "outputs": [
    {
     "ename": "SyntaxError",
     "evalue": "invalid syntax (3556151705.py, line 1)",
     "output_type": "error",
     "traceback": [
      "\u001b[1;36m  Cell \u001b[1;32mIn[1], line 1\u001b[1;36m\u001b[0m\n\u001b[1;33m    If False:\u001b[0m\n\u001b[1;37m       ^\u001b[0m\n\u001b[1;31mSyntaxError\u001b[0m\u001b[1;31m:\u001b[0m invalid syntax\n"
     ]
    }
   ],
   "source": [
    "If False:\n",
    "    print (\"porosity\")\n",
    "else:\n",
    "    print (\"Permeability\")"
   ]
  },
  {
   "cell_type": "code",
   "execution_count": 5,
   "id": "cae4683b",
   "metadata": {},
   "outputs": [
    {
     "name": "stdout",
     "output_type": "stream",
     "text": [
      "Permeability\n"
     ]
    }
   ],
   "source": [
    "if False:\n",
    "    print ('porosity')\n",
    "else:\n",
    "    print (\"Permeability\")"
   ]
  },
  {
   "cell_type": "code",
   "execution_count": 7,
   "id": "b51724f8",
   "metadata": {
    "scrolled": true
   },
   "outputs": [
    {
     "name": "stdout",
     "output_type": "stream",
     "text": [
      "Enter the reservoir pressure (psi): 2500\n",
      "Enter the hydrostatic pressure(psi): 1500\n",
      "Enter the fracture pressure(psi): 2800\n"
     ]
    }
   ],
   "source": [
    "Reservoir_Pressure = float(input(\"Enter the reservoir pressure (psi): \"))\n",
    "Hydrostatic_pressure = float(input(\"Enter the hydrostatic pressure(psi): \"))\n",
    "Fracture_pressure = float(input(\"Enter the fracture pressure(psi): \"))"
   ]
  },
  {
   "cell_type": "code",
   "execution_count": 13,
   "id": "358b422f",
   "metadata": {},
   "outputs": [
    {
     "name": "stdout",
     "output_type": "stream",
     "text": [
      "a=2\n",
      "a is less than 7\n",
      "a=3\n",
      "a is less than 7\n",
      "a=4\n",
      "a is less than 7\n",
      "a=5\n",
      "a is less than 7\n",
      "a=6\n",
      "a is less than 7\n"
     ]
    }
   ],
   "source": [
    "a=2\n",
    "while a<7:\n",
    "    print(f'a={a}')\n",
    "    print (\"a is less than 7\")\n",
    "    a=a+1"
   ]
  },
  {
   "cell_type": "code",
   "execution_count": 14,
   "id": "dc1968ea",
   "metadata": {},
   "outputs": [
    {
     "data": {
      "text/plain": [
       "True"
      ]
     },
     "execution_count": 14,
     "metadata": {},
     "output_type": "execute_result"
    }
   ],
   "source": [
    "5==5"
   ]
  },
  {
   "cell_type": "code",
   "execution_count": 15,
   "id": "fe4765d7",
   "metadata": {},
   "outputs": [
    {
     "data": {
      "text/plain": [
       "False"
      ]
     },
     "execution_count": 15,
     "metadata": {},
     "output_type": "execute_result"
    }
   ],
   "source": [
    "5!=5"
   ]
  },
  {
   "cell_type": "code",
   "execution_count": 16,
   "id": "a56b21bb",
   "metadata": {},
   "outputs": [
    {
     "name": "stdout",
     "output_type": "stream",
     "text": [
      "1\n",
      "2\n",
      "3\n"
     ]
    }
   ],
   "source": [
    "x=0\n",
    "while x<7:\n",
    "    x+=1\n",
    "    if x==4:\n",
    "        break\n",
    "    print(x)"
   ]
  },
  {
   "cell_type": "code",
   "execution_count": 17,
   "id": "b8a2355f",
   "metadata": {},
   "outputs": [],
   "source": [
    "x=[23, 34, 45, 54, 56, 23, 43, 56, 65, 78, 745]"
   ]
  },
  {
   "cell_type": "code",
   "execution_count": 18,
   "id": "6edbaa6f",
   "metadata": {},
   "outputs": [
    {
     "data": {
      "text/plain": [
       "11"
      ]
     },
     "execution_count": 18,
     "metadata": {},
     "output_type": "execute_result"
    }
   ],
   "source": [
    "len(x)"
   ]
  },
  {
   "cell_type": "code",
   "execution_count": 19,
   "id": "7dd16a21",
   "metadata": {},
   "outputs": [
    {
     "data": {
      "text/plain": [
       "range(0, 11)"
      ]
     },
     "execution_count": 19,
     "metadata": {},
     "output_type": "execute_result"
    }
   ],
   "source": [
    "range(len(x))"
   ]
  },
  {
   "cell_type": "code",
   "execution_count": 20,
   "id": "6374274d",
   "metadata": {},
   "outputs": [
    {
     "data": {
      "text/plain": [
       "[0, 1, 2, 3, 4, 5, 6, 7, 8, 9, 10]"
      ]
     },
     "execution_count": 20,
     "metadata": {},
     "output_type": "execute_result"
    }
   ],
   "source": [
    "list(range(len(x)))"
   ]
  },
  {
   "cell_type": "code",
   "execution_count": 23,
   "id": "2bacef4e",
   "metadata": {},
   "outputs": [
    {
     "data": {
      "text/plain": [
       "(0, 1, 2, 3, 4, 5, 6, 7, 8, 9, 10)"
      ]
     },
     "execution_count": 23,
     "metadata": {},
     "output_type": "execute_result"
    }
   ],
   "source": [
    "tuple(range(len(x)))"
   ]
  },
  {
   "cell_type": "code",
   "execution_count": 24,
   "id": "10d076e7",
   "metadata": {},
   "outputs": [],
   "source": [
    "y=tuple(range(len(x)))"
   ]
  },
  {
   "cell_type": "code",
   "execution_count": 25,
   "id": "703788b3",
   "metadata": {},
   "outputs": [
    {
     "ename": "TypeError",
     "evalue": "'tuple' object is not callable",
     "output_type": "error",
     "traceback": [
      "\u001b[1;31m---------------------------------------------------------------------------\u001b[0m",
      "\u001b[1;31mTypeError\u001b[0m                                 Traceback (most recent call last)",
      "Cell \u001b[1;32mIn[25], line 1\u001b[0m\n\u001b[1;32m----> 1\u001b[0m y(\u001b[38;5;241m2\u001b[39m)\n",
      "\u001b[1;31mTypeError\u001b[0m: 'tuple' object is not callable"
     ]
    }
   ],
   "source": [
    "y(2)"
   ]
  },
  {
   "cell_type": "code",
   "execution_count": 28,
   "id": "79c7a7c0",
   "metadata": {},
   "outputs": [
    {
     "ename": "IndexError",
     "evalue": "tuple index out of range",
     "output_type": "error",
     "traceback": [
      "\u001b[1;31m---------------------------------------------------------------------------\u001b[0m",
      "\u001b[1;31mIndexError\u001b[0m                                Traceback (most recent call last)",
      "Cell \u001b[1;32mIn[28], line 1\u001b[0m\n\u001b[1;32m----> 1\u001b[0m y[\u001b[38;5;241m60\u001b[39m]\n",
      "\u001b[1;31mIndexError\u001b[0m: tuple index out of range"
     ]
    }
   ],
   "source": [
    "y[60]"
   ]
  },
  {
   "cell_type": "code",
   "execution_count": 31,
   "id": "e2d8436c",
   "metadata": {},
   "outputs": [
    {
     "name": "stdout",
     "output_type": "stream",
     "text": [
      "skipping even number\n",
      "1\n",
      "skipping even number\n",
      "3\n",
      "skipping even number\n",
      "5\n",
      "skipping even number\n"
     ]
    }
   ],
   "source": [
    "for i in range(7):\n",
    "    if i%2==0:\n",
    "        print(\"skipping even number\")\n",
    "        continue\n",
    "    print(i)"
   ]
  },
  {
   "cell_type": "code",
   "execution_count": 32,
   "id": "4c0c85f0",
   "metadata": {},
   "outputs": [
    {
     "data": {
      "text/plain": [
       "range(0, 7)"
      ]
     },
     "execution_count": 32,
     "metadata": {},
     "output_type": "execute_result"
    }
   ],
   "source": [
    "range(7)"
   ]
  },
  {
   "cell_type": "code",
   "execution_count": 33,
   "id": "cc631303",
   "metadata": {},
   "outputs": [],
   "source": [
    "x=range(7)"
   ]
  },
  {
   "cell_type": "code",
   "execution_count": 34,
   "id": "39e38e56",
   "metadata": {},
   "outputs": [
    {
     "data": {
      "text/plain": [
       "range(0, 7)"
      ]
     },
     "execution_count": 34,
     "metadata": {},
     "output_type": "execute_result"
    }
   ],
   "source": [
    "x"
   ]
  },
  {
   "cell_type": "code",
   "execution_count": 35,
   "id": "04c9501c",
   "metadata": {},
   "outputs": [
    {
     "data": {
      "text/plain": [
       "[0, 1, 2, 3, 4, 5, 6]"
      ]
     },
     "execution_count": 35,
     "metadata": {},
     "output_type": "execute_result"
    }
   ],
   "source": [
    "list(x)"
   ]
  },
  {
   "cell_type": "code",
   "execution_count": 44,
   "id": "66f89b17",
   "metadata": {},
   "outputs": [
    {
     "name": "stdout",
     "output_type": "stream",
     "text": [
      "Enter the number to be square rooted:  121\n",
      "enter the intial guess (x_0):  4\n",
      "17.125\n",
      "12.095346715328468\n",
      "11.049596942320818\n",
      "11.000111309792583\n",
      "11.00000000056317\n",
      "Result: the square root of 121.0 is 11.00000000056317\n",
      " The actual root of 121.0 is 11.0 \n"
     ]
    }
   ],
   "source": [
    "n=float(input(\"Enter the number to be square rooted:  \"))\n",
    "x=float(input(\"enter the intial guess (x_0):  \"))\n",
    "\n",
    "while (abs(x**2-n)>0.00001):\n",
    "    x=x-(x**2-n)/(2*x)\n",
    "    print (x)\n",
    "    \n",
    "print(f\"Result: the square root of {n} is {x}\")\n",
    "print(f\" The actual root of {n} is {n**.5} \")"
   ]
  },
  {
   "cell_type": "code",
   "execution_count": 37,
   "id": "d1464952",
   "metadata": {},
   "outputs": [
    {
     "name": "stdout",
     "output_type": "stream",
     "text": [
      "enter the intial guess (x_0):  5\n"
     ]
    }
   ],
   "source": [
    "x=float(input(\"enter the intial guess (x_0):  \"))"
   ]
  },
  {
   "cell_type": "code",
   "execution_count": 43,
   "id": "fa060e02",
   "metadata": {},
   "outputs": [
    {
     "name": "stdout",
     "output_type": "stream",
     "text": [
      "Result: the square root of 35.0 is 5.916079812206573\n",
      " The actual root of 35.0 is 35.0**.5 \n"
     ]
    }
   ],
   "source": [
    "while (abs(x**2-n)>0.00001):\n",
    "    x=x-(x**2-n)/(2*x)\n",
    "    print(x)\n",
    "    \n",
    "print(f\"Result: the square root of {n} is {x}\")\n",
    "print(f\" The actual root of {n} is {n}**.5 \")"
   ]
  },
  {
   "cell_type": "code",
   "execution_count": 3,
   "id": "38f86eec",
   "metadata": {},
   "outputs": [
    {
     "ename": "SyntaxError",
     "evalue": "invalid syntax. Maybe you meant '==' or ':=' instead of '='? (2758970228.py, line 8)",
     "output_type": "error",
     "traceback": [
      "\u001b[1;36m  Cell \u001b[1;32mIn[3], line 8\u001b[1;36m\u001b[0m\n\u001b[1;33m    if Pr = Pb:\u001b[0m\n\u001b[1;37m       ^\u001b[0m\n\u001b[1;31mSyntaxError\u001b[0m\u001b[1;31m:\u001b[0m invalid syntax. Maybe you meant '==' or ':=' instead of '='?\n"
     ]
    }
   ],
   "source": [
    "Pr=float(input(\"Enter the reservoir-pressure: \"))\n",
    "Pb=float(input(\"Enter the pubble-point pressure: \"))\n",
    "\n",
    "if Pr < Pb :\n",
    "    print(\"Reservoir pressure is less than pubble point pressure, therefore gas has been evolved\")\n",
    "elif Pr > Pb :\n",
    "    print(\"Reservoir pressure is greater than pubble point pressure and is undersaturated\")\n",
    "if Pr == Pb:\n",
    "    print(\"Reservoir is saturated\")"
   ]
  },
  {
   "cell_type": "code",
   "execution_count": null,
   "id": "e20664c0",
   "metadata": {},
   "outputs": [],
   "source": []
  },
  {
   "cell_type": "code",
   "execution_count": null,
   "id": "955e3773",
   "metadata": {},
   "outputs": [],
   "source": []
  }
 ],
 "metadata": {
  "kernelspec": {
   "display_name": "Python 3 (ipykernel)",
   "language": "python",
   "name": "python3"
  },
  "language_info": {
   "codemirror_mode": {
    "name": "ipython",
    "version": 3
   },
   "file_extension": ".py",
   "mimetype": "text/x-python",
   "name": "python",
   "nbconvert_exporter": "python",
   "pygments_lexer": "ipython3",
   "version": "3.11.4"
  }
 },
 "nbformat": 4,
 "nbformat_minor": 5
}

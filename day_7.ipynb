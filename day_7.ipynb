{
 "cells": [
  {
   "cell_type": "markdown",
   "id": "1eaa9231",
   "metadata": {},
   "source": [
    "# KIINKENBERG EFFECT\n",
    "k(g)= gas perm\n",
    "k(l) liquid perm\n",
    "\n",
    "$ 6.9(k_l)^{0.64}+P_m*K_l-P_m*K_g = 0 $\n"
   ]
  },
  {
   "cell_type": "code",
   "execution_count": 3,
   "id": "fe3b46a2",
   "metadata": {},
   "outputs": [],
   "source": [
    "def add(x,y):\n",
    "    z=x+y\n",
    "    print(f\"Sum of {x} and {y} is {z}\")\n",
    "    return z"
   ]
  },
  {
   "cell_type": "code",
   "execution_count": 2,
   "id": "62450de7",
   "metadata": {},
   "outputs": [
    {
     "name": "stdout",
     "output_type": "stream",
     "text": [
      "Sum of 3 and 4 is 7\n"
     ]
    }
   ],
   "source": [
    "add(3,4)"
   ]
  },
  {
   "cell_type": "code",
   "execution_count": 4,
   "id": "c3056d40",
   "metadata": {},
   "outputs": [
    {
     "name": "stdout",
     "output_type": "stream",
     "text": [
      "Sum of 5 and 6 is 11\n"
     ]
    },
    {
     "data": {
      "text/plain": [
       "11"
      ]
     },
     "execution_count": 4,
     "metadata": {},
     "output_type": "execute_result"
    }
   ],
   "source": [
    "add (5,6)"
   ]
  },
  {
   "cell_type": "code",
   "execution_count": 5,
   "id": "dfe04726",
   "metadata": {},
   "outputs": [
    {
     "name": "stdout",
     "output_type": "stream",
     "text": [
      "Sum of 5 and 6 is 11\n"
     ]
    }
   ],
   "source": [
    "t=add(5,6)"
   ]
  },
  {
   "cell_type": "code",
   "execution_count": 6,
   "id": "0a70e658",
   "metadata": {},
   "outputs": [
    {
     "data": {
      "text/plain": [
       "21"
      ]
     },
     "execution_count": 6,
     "metadata": {},
     "output_type": "execute_result"
    }
   ],
   "source": [
    "t+10"
   ]
  },
  {
   "cell_type": "code",
   "execution_count": 8,
   "id": "bb34d16b",
   "metadata": {},
   "outputs": [],
   "source": [
    "def operations (x,y):\n",
    "#\n",
    "    return add, sub, mul, div"
   ]
  },
  {
   "cell_type": "code",
   "execution_count": 10,
   "id": "6f50e212",
   "metadata": {},
   "outputs": [],
   "source": [
    "r=operations (10, 2)"
   ]
  },
  {
   "cell_type": "code",
   "execution_count": 11,
   "id": "5dfe029e",
   "metadata": {},
   "outputs": [
    {
     "data": {
      "text/plain": [
       "(12, 8, 20, 5.0)"
      ]
     },
     "execution_count": 11,
     "metadata": {},
     "output_type": "execute_result"
    }
   ],
   "source": [
    "r"
   ]
  },
  {
   "cell_type": "code",
   "execution_count": 12,
   "id": "4e7f33a3",
   "metadata": {},
   "outputs": [
    {
     "data": {
      "text/plain": [
       "tuple"
      ]
     },
     "execution_count": 12,
     "metadata": {},
     "output_type": "execute_result"
    }
   ],
   "source": [
    "type(r)"
   ]
  },
  {
   "cell_type": "code",
   "execution_count": 13,
   "id": "de4463c0",
   "metadata": {},
   "outputs": [],
   "source": [
    "a,b,c,d=operations (10,2)"
   ]
  },
  {
   "cell_type": "code",
   "execution_count": 14,
   "id": "3c2b703f",
   "metadata": {},
   "outputs": [
    {
     "data": {
      "text/plain": [
       "12"
      ]
     },
     "execution_count": 14,
     "metadata": {},
     "output_type": "execute_result"
    }
   ],
   "source": [
    "a"
   ]
  },
  {
   "cell_type": "code",
   "execution_count": 15,
   "id": "2e3e8fbe",
   "metadata": {},
   "outputs": [],
   "source": [
    "import numpy as np"
   ]
  },
  {
   "cell_type": "code",
   "execution_count": 16,
   "id": "1c006891",
   "metadata": {},
   "outputs": [
    {
     "data": {
      "text/plain": [
       "array({232, 12, 45, 342}, dtype=object)"
      ]
     },
     "execution_count": 16,
     "metadata": {},
     "output_type": "execute_result"
    }
   ],
   "source": [
    "np.array({45, 342, 232, 12})"
   ]
  },
  {
   "cell_type": "code",
   "execution_count": null,
   "id": "2a0022b9",
   "metadata": {},
   "outputs": [],
   "source": []
  }
 ],
 "metadata": {
  "kernelspec": {
   "display_name": "Python 3 (ipykernel)",
   "language": "python",
   "name": "python3"
  },
  "language_info": {
   "codemirror_mode": {
    "name": "ipython",
    "version": 3
   },
   "file_extension": ".py",
   "mimetype": "text/x-python",
   "name": "python",
   "nbconvert_exporter": "python",
   "pygments_lexer": "ipython3",
   "version": "3.11.4"
  }
 },
 "nbformat": 4,
 "nbformat_minor": 5
}

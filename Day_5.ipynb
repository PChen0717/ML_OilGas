{
 "cells": [
  {
   "cell_type": "markdown",
   "id": "81c4fc19",
   "metadata": {},
   "source": [
    "# Dictionary\n",
    "\n",
    "1. keys: values\n",
    "2. {} => key : value pairs\n"
   ]
  },
  {
   "cell_type": "code",
   "execution_count": 1,
   "id": "a94c4420",
   "metadata": {},
   "outputs": [],
   "source": [
    "d = {}"
   ]
  },
  {
   "cell_type": "code",
   "execution_count": 2,
   "id": "883d9d14",
   "metadata": {},
   "outputs": [
    {
     "data": {
      "text/plain": [
       "dict"
      ]
     },
     "execution_count": 2,
     "metadata": {},
     "output_type": "execute_result"
    }
   ],
   "source": [
    "type (d)"
   ]
  },
  {
   "cell_type": "code",
   "execution_count": 3,
   "id": "1de95386",
   "metadata": {},
   "outputs": [],
   "source": [
    "s = {3}"
   ]
  },
  {
   "cell_type": "code",
   "execution_count": 4,
   "id": "b2b8da65",
   "metadata": {},
   "outputs": [
    {
     "data": {
      "text/plain": [
       "set"
      ]
     },
     "execution_count": 4,
     "metadata": {},
     "output_type": "execute_result"
    }
   ],
   "source": [
    "type (s)"
   ]
  },
  {
   "cell_type": "code",
   "execution_count": 6,
   "id": "271856eb",
   "metadata": {},
   "outputs": [],
   "source": [
    "d = {\"name\":\"jayesh\", \"number\": 750943798, \"mail\":\"jai@124\"}"
   ]
  },
  {
   "cell_type": "code",
   "execution_count": 7,
   "id": "9ed64364",
   "metadata": {},
   "outputs": [
    {
     "data": {
      "text/plain": [
       "dict"
      ]
     },
     "execution_count": 7,
     "metadata": {},
     "output_type": "execute_result"
    }
   ],
   "source": [
    "type (d)"
   ]
  },
  {
   "cell_type": "code",
   "execution_count": 8,
   "id": "e0b0a064",
   "metadata": {},
   "outputs": [
    {
     "data": {
      "text/plain": [
       "{'name': 'jayesh', 'number': 750943798, 'mail': 'jai@124'}"
      ]
     },
     "execution_count": 8,
     "metadata": {},
     "output_type": "execute_result"
    }
   ],
   "source": [
    "d"
   ]
  },
  {
   "cell_type": "markdown",
   "id": "24ffc8dc",
   "metadata": {},
   "source": [
    "# Keys must be unique\n",
    "if keys are duplicated, the value will be updated to the latest data"
   ]
  },
  {
   "cell_type": "code",
   "execution_count": 10,
   "id": "46568dba",
   "metadata": {},
   "outputs": [],
   "source": [
    "rock = {\"lithology\": \"Limestone\", \"lithology\": \"sandstone\"}"
   ]
  },
  {
   "cell_type": "code",
   "execution_count": null,
   "id": "2a0a41f2",
   "metadata": {},
   "outputs": [],
   "source": []
  }
 ],
 "metadata": {
  "kernelspec": {
   "display_name": "Python 3 (ipykernel)",
   "language": "python",
   "name": "python3"
  },
  "language_info": {
   "codemirror_mode": {
    "name": "ipython",
    "version": 3
   },
   "file_extension": ".py",
   "mimetype": "text/x-python",
   "name": "python",
   "nbconvert_exporter": "python",
   "pygments_lexer": "ipython3",
   "version": "3.11.4"
  }
 },
 "nbformat": 4,
 "nbformat_minor": 5
}
